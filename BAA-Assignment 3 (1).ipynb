{
 "cells": [
  {
   "cell_type": "markdown",
   "id": "286fd0c2",
   "metadata": {},
   "source": [
    "# Assignment\n"
   ]
  },
  {
   "cell_type": "code",
   "execution_count": 1,
   "id": "57428a1b",
   "metadata": {},
   "outputs": [],
   "source": [
    "import pandas as pd"
   ]
  },
  {
   "cell_type": "code",
   "execution_count": 2,
   "id": "bfe2b008",
   "metadata": {},
   "outputs": [
    {
     "name": "stderr",
     "output_type": "stream",
     "text": [
      "C:\\Users\\Sushant Sinha\\anaconda3\\lib\\site-packages\\IPython\\core\\interactiveshell.py:3146: DtypeWarning: Columns (25,108) have mixed types.Specify dtype option on import or set low_memory=False.\n",
      "  has_raised = await self.run_ast_nodes(code_ast.body, cell_name,\n"
     ]
    }
   ],
   "source": [
    "df = pd.read_csv('players_22 - players_22.csv')"
   ]
  },
  {
   "cell_type": "code",
   "execution_count": 3,
   "id": "baaa8448",
   "metadata": {},
   "outputs": [
    {
     "data": {
      "text/html": [
       "<div>\n",
       "<style scoped>\n",
       "    .dataframe tbody tr th:only-of-type {\n",
       "        vertical-align: middle;\n",
       "    }\n",
       "\n",
       "    .dataframe tbody tr th {\n",
       "        vertical-align: top;\n",
       "    }\n",
       "\n",
       "    .dataframe thead th {\n",
       "        text-align: right;\n",
       "    }\n",
       "</style>\n",
       "<table border=\"1\" class=\"dataframe\">\n",
       "  <thead>\n",
       "    <tr style=\"text-align: right;\">\n",
       "      <th></th>\n",
       "      <th>sofifa_id</th>\n",
       "      <th>player_url</th>\n",
       "      <th>short_name</th>\n",
       "      <th>long_name</th>\n",
       "      <th>player_positions</th>\n",
       "      <th>overall</th>\n",
       "      <th>potential</th>\n",
       "      <th>value_eur</th>\n",
       "      <th>wage_eur</th>\n",
       "      <th>age</th>\n",
       "      <th>...</th>\n",
       "      <th>lcb</th>\n",
       "      <th>cb</th>\n",
       "      <th>rcb</th>\n",
       "      <th>rb</th>\n",
       "      <th>gk</th>\n",
       "      <th>player_face_url</th>\n",
       "      <th>club_logo_url</th>\n",
       "      <th>club_flag_url</th>\n",
       "      <th>nation_logo_url</th>\n",
       "      <th>nation_flag_url</th>\n",
       "    </tr>\n",
       "  </thead>\n",
       "  <tbody>\n",
       "    <tr>\n",
       "      <th>0</th>\n",
       "      <td>158023</td>\n",
       "      <td>https://sofifa.com/player/158023/lionel-messi/...</td>\n",
       "      <td>L. Messi</td>\n",
       "      <td>Lionel Andrés Messi Cuccittini</td>\n",
       "      <td>RW, ST, CF</td>\n",
       "      <td>93</td>\n",
       "      <td>93</td>\n",
       "      <td>78000000.0</td>\n",
       "      <td>320000.0</td>\n",
       "      <td>34</td>\n",
       "      <td>...</td>\n",
       "      <td>50+3</td>\n",
       "      <td>50+3</td>\n",
       "      <td>50+3</td>\n",
       "      <td>61+3</td>\n",
       "      <td>19+3</td>\n",
       "      <td>https://cdn.sofifa.net/players/158/023/22_120.png</td>\n",
       "      <td>https://cdn.sofifa.net/teams/73/60.png</td>\n",
       "      <td>https://cdn.sofifa.net/flags/fr.png</td>\n",
       "      <td>https://cdn.sofifa.net/teams/1369/60.png</td>\n",
       "      <td>https://cdn.sofifa.net/flags/ar.png</td>\n",
       "    </tr>\n",
       "    <tr>\n",
       "      <th>1</th>\n",
       "      <td>188545</td>\n",
       "      <td>https://sofifa.com/player/188545/robert-lewand...</td>\n",
       "      <td>R. Lewandowski</td>\n",
       "      <td>Robert Lewandowski</td>\n",
       "      <td>ST</td>\n",
       "      <td>92</td>\n",
       "      <td>92</td>\n",
       "      <td>119500000.0</td>\n",
       "      <td>270000.0</td>\n",
       "      <td>32</td>\n",
       "      <td>...</td>\n",
       "      <td>60+3</td>\n",
       "      <td>60+3</td>\n",
       "      <td>60+3</td>\n",
       "      <td>61+3</td>\n",
       "      <td>19+3</td>\n",
       "      <td>https://cdn.sofifa.net/players/188/545/22_120.png</td>\n",
       "      <td>https://cdn.sofifa.net/teams/21/60.png</td>\n",
       "      <td>https://cdn.sofifa.net/flags/de.png</td>\n",
       "      <td>https://cdn.sofifa.net/teams/1353/60.png</td>\n",
       "      <td>https://cdn.sofifa.net/flags/pl.png</td>\n",
       "    </tr>\n",
       "    <tr>\n",
       "      <th>2</th>\n",
       "      <td>20801</td>\n",
       "      <td>https://sofifa.com/player/20801/c-ronaldo-dos-...</td>\n",
       "      <td>Cristiano Ronaldo</td>\n",
       "      <td>Cristiano Ronaldo dos Santos Aveiro</td>\n",
       "      <td>ST, LW</td>\n",
       "      <td>91</td>\n",
       "      <td>91</td>\n",
       "      <td>45000000.0</td>\n",
       "      <td>270000.0</td>\n",
       "      <td>36</td>\n",
       "      <td>...</td>\n",
       "      <td>53+3</td>\n",
       "      <td>53+3</td>\n",
       "      <td>53+3</td>\n",
       "      <td>60+3</td>\n",
       "      <td>20+3</td>\n",
       "      <td>https://cdn.sofifa.net/players/020/801/22_120.png</td>\n",
       "      <td>https://cdn.sofifa.net/teams/11/60.png</td>\n",
       "      <td>https://cdn.sofifa.net/flags/gb-eng.png</td>\n",
       "      <td>https://cdn.sofifa.net/teams/1354/60.png</td>\n",
       "      <td>https://cdn.sofifa.net/flags/pt.png</td>\n",
       "    </tr>\n",
       "    <tr>\n",
       "      <th>3</th>\n",
       "      <td>190871</td>\n",
       "      <td>https://sofifa.com/player/190871/neymar-da-sil...</td>\n",
       "      <td>Neymar Jr</td>\n",
       "      <td>Neymar da Silva Santos Júnior</td>\n",
       "      <td>LW, CAM</td>\n",
       "      <td>91</td>\n",
       "      <td>91</td>\n",
       "      <td>129000000.0</td>\n",
       "      <td>270000.0</td>\n",
       "      <td>29</td>\n",
       "      <td>...</td>\n",
       "      <td>50+3</td>\n",
       "      <td>50+3</td>\n",
       "      <td>50+3</td>\n",
       "      <td>62+3</td>\n",
       "      <td>20+3</td>\n",
       "      <td>https://cdn.sofifa.net/players/190/871/22_120.png</td>\n",
       "      <td>https://cdn.sofifa.net/teams/73/60.png</td>\n",
       "      <td>https://cdn.sofifa.net/flags/fr.png</td>\n",
       "      <td>NaN</td>\n",
       "      <td>https://cdn.sofifa.net/flags/br.png</td>\n",
       "    </tr>\n",
       "    <tr>\n",
       "      <th>4</th>\n",
       "      <td>192985</td>\n",
       "      <td>https://sofifa.com/player/192985/kevin-de-bruy...</td>\n",
       "      <td>K. De Bruyne</td>\n",
       "      <td>Kevin De Bruyne</td>\n",
       "      <td>CM, CAM</td>\n",
       "      <td>91</td>\n",
       "      <td>91</td>\n",
       "      <td>125500000.0</td>\n",
       "      <td>350000.0</td>\n",
       "      <td>30</td>\n",
       "      <td>...</td>\n",
       "      <td>69+3</td>\n",
       "      <td>69+3</td>\n",
       "      <td>69+3</td>\n",
       "      <td>75+3</td>\n",
       "      <td>21+3</td>\n",
       "      <td>https://cdn.sofifa.net/players/192/985/22_120.png</td>\n",
       "      <td>https://cdn.sofifa.net/teams/10/60.png</td>\n",
       "      <td>https://cdn.sofifa.net/flags/gb-eng.png</td>\n",
       "      <td>https://cdn.sofifa.net/teams/1325/60.png</td>\n",
       "      <td>https://cdn.sofifa.net/flags/be.png</td>\n",
       "    </tr>\n",
       "  </tbody>\n",
       "</table>\n",
       "<p>5 rows × 110 columns</p>\n",
       "</div>"
      ],
      "text/plain": [
       "   sofifa_id                                         player_url  \\\n",
       "0     158023  https://sofifa.com/player/158023/lionel-messi/...   \n",
       "1     188545  https://sofifa.com/player/188545/robert-lewand...   \n",
       "2      20801  https://sofifa.com/player/20801/c-ronaldo-dos-...   \n",
       "3     190871  https://sofifa.com/player/190871/neymar-da-sil...   \n",
       "4     192985  https://sofifa.com/player/192985/kevin-de-bruy...   \n",
       "\n",
       "          short_name                            long_name player_positions  \\\n",
       "0           L. Messi       Lionel Andrés Messi Cuccittini       RW, ST, CF   \n",
       "1     R. Lewandowski                   Robert Lewandowski               ST   \n",
       "2  Cristiano Ronaldo  Cristiano Ronaldo dos Santos Aveiro           ST, LW   \n",
       "3          Neymar Jr        Neymar da Silva Santos Júnior          LW, CAM   \n",
       "4       K. De Bruyne                      Kevin De Bruyne          CM, CAM   \n",
       "\n",
       "   overall  potential    value_eur  wage_eur  age  ...   lcb    cb   rcb  \\\n",
       "0       93         93   78000000.0  320000.0   34  ...  50+3  50+3  50+3   \n",
       "1       92         92  119500000.0  270000.0   32  ...  60+3  60+3  60+3   \n",
       "2       91         91   45000000.0  270000.0   36  ...  53+3  53+3  53+3   \n",
       "3       91         91  129000000.0  270000.0   29  ...  50+3  50+3  50+3   \n",
       "4       91         91  125500000.0  350000.0   30  ...  69+3  69+3  69+3   \n",
       "\n",
       "     rb    gk                                    player_face_url  \\\n",
       "0  61+3  19+3  https://cdn.sofifa.net/players/158/023/22_120.png   \n",
       "1  61+3  19+3  https://cdn.sofifa.net/players/188/545/22_120.png   \n",
       "2  60+3  20+3  https://cdn.sofifa.net/players/020/801/22_120.png   \n",
       "3  62+3  20+3  https://cdn.sofifa.net/players/190/871/22_120.png   \n",
       "4  75+3  21+3  https://cdn.sofifa.net/players/192/985/22_120.png   \n",
       "\n",
       "                            club_logo_url  \\\n",
       "0  https://cdn.sofifa.net/teams/73/60.png   \n",
       "1  https://cdn.sofifa.net/teams/21/60.png   \n",
       "2  https://cdn.sofifa.net/teams/11/60.png   \n",
       "3  https://cdn.sofifa.net/teams/73/60.png   \n",
       "4  https://cdn.sofifa.net/teams/10/60.png   \n",
       "\n",
       "                             club_flag_url  \\\n",
       "0      https://cdn.sofifa.net/flags/fr.png   \n",
       "1      https://cdn.sofifa.net/flags/de.png   \n",
       "2  https://cdn.sofifa.net/flags/gb-eng.png   \n",
       "3      https://cdn.sofifa.net/flags/fr.png   \n",
       "4  https://cdn.sofifa.net/flags/gb-eng.png   \n",
       "\n",
       "                            nation_logo_url  \\\n",
       "0  https://cdn.sofifa.net/teams/1369/60.png   \n",
       "1  https://cdn.sofifa.net/teams/1353/60.png   \n",
       "2  https://cdn.sofifa.net/teams/1354/60.png   \n",
       "3                                       NaN   \n",
       "4  https://cdn.sofifa.net/teams/1325/60.png   \n",
       "\n",
       "                       nation_flag_url  \n",
       "0  https://cdn.sofifa.net/flags/ar.png  \n",
       "1  https://cdn.sofifa.net/flags/pl.png  \n",
       "2  https://cdn.sofifa.net/flags/pt.png  \n",
       "3  https://cdn.sofifa.net/flags/br.png  \n",
       "4  https://cdn.sofifa.net/flags/be.png  \n",
       "\n",
       "[5 rows x 110 columns]"
      ]
     },
     "execution_count": 3,
     "metadata": {},
     "output_type": "execute_result"
    }
   ],
   "source": [
    "df.head()"
   ]
  },
  {
   "cell_type": "markdown",
   "id": "f2af2472",
   "metadata": {},
   "source": [
    "Well, not everyone plays football or knows everything about it, so i will write some clarifications.\n",
    "\n",
    "In football, player positions corresponds to these positions:-\n",
    "\n",
    "![](https://www.fifplay.com/img/public/positions.jpg)"
   ]
  },
  {
   "cell_type": "markdown",
   "id": "00ed19fb",
   "metadata": {},
   "source": [
    "In this dataset, you have 1 row each for every football player in the game FIFA 22, For every player we have :-\n",
    "- Name\n",
    "- Weight\n",
    "- Height\n",
    "- Salary\n",
    "- Overall (This is an overall score of how good the player is)\n",
    "- Potential (In FIFA, if you play career mode, players evolve and their overall scores improve, potential refers to how good a player can get, not what he is currently)\n",
    "\n",
    "Then we have most other options like:-\n",
    "- Heading (How well can the player head the ball)\n",
    "- Standing tackle (How well can the player do a standing tackle - defense)\n",
    "- Sliding tackle (How well can the player do a sliding tackle - defense)\n",
    "\n",
    "And many many more"
   ]
  },
  {
   "cell_type": "markdown",
   "id": "1646bda2",
   "metadata": {},
   "source": [
    "# Question \n",
    "\n",
    "This dataset is very rich, meaning you can get a lot of insights from this data. \n",
    "\n",
    "So, i have 2 questions for you. \n",
    "1. Open ended\n",
    "    - Give me some insights from this data. (Totally open ended, dazzle me with your brilliance ^_^ )\n",
    "2. You are hired by Real Madrid, and they want you to scout the best players possible\n",
    "    - They are looking young players, not over 26\n",
    "    - They are looking for 4 players\n",
    "        - 1 for Goalkeeper \n",
    "        - 1 Defender (Could be any position)\n",
    "        - 1 Midfielder (Could be any position)\n",
    "        - 1 Attacker (Could be any position)\n",
    "        "
   ]
  },
  {
   "cell_type": "markdown",
   "id": "9a84b7fd",
   "metadata": {},
   "source": [
    "# ---------------------------------------------------------------------------------------------------------------"
   ]
  },
  {
   "cell_type": "markdown",
   "id": "54421d46",
   "metadata": {},
   "source": [
    "![](https://media.tenor.com/NSp8dMiB6ekAAAAM/lets-do-this-so-it-begins.gif)"
   ]
  },
  {
   "cell_type": "markdown",
   "id": "7372bdc5",
   "metadata": {},
   "source": [
    "# Question 1"
   ]
  },
  {
   "cell_type": "code",
   "execution_count": 4,
   "id": "86eefe5d",
   "metadata": {},
   "outputs": [],
   "source": [
    "import matplotlib.pyplot as plt"
   ]
  },
  {
   "cell_type": "markdown",
   "id": "18590c9a",
   "metadata": {},
   "source": [
    "# Insight 1"
   ]
  },
  {
   "cell_type": "code",
   "execution_count": 5,
   "id": "bd0571a6",
   "metadata": {},
   "outputs": [
    {
     "data": {
      "text/plain": [
       "<BarContainer object of 19239 artists>"
      ]
     },
     "execution_count": 5,
     "metadata": {},
     "output_type": "execute_result"
    },
    {
     "data": {
      "image/png": "[encoded data removed]",
      "text/plain": [
       "<Figure size 432x288 with 1 Axes>"
      ]
     },
     "metadata": {
      "needs_background": "light"
     },
     "output_type": "display_data"
    }
   ],
   "source": [
    "plt.bar(df['international_reputation'],df['wage_eur'], width = 0.5)"
   ]
  },
  {
   "cell_type": "markdown",
   "id": "bddfcd7c",
   "metadata": {},
   "source": [
    "![](https://media.tenor.com/inJ-JPc301oAAAAM/nessaj-nessalini.gif)"
   ]
  },
  {
   "cell_type": "markdown",
   "id": "fcd79a02",
   "metadata": {},
   "source": [
    "As we can see that the reputation of the players is in direct correlation with their earnings. Meaning that the more reputed you\n",
    "the more you earn. However, players who have a score of 5 are being paid less than the ones who are rated 4 lets look at the possible reason."
   ]
  },
  {
   "cell_type": "code",
   "execution_count": 6,
   "id": "558fa11f",
   "metadata": {},
   "outputs": [
    {
     "data": {
      "text/plain": [
       "<BarContainer object of 19239 artists>"
      ]
     },
     "execution_count": 6,
     "metadata": {},
     "output_type": "execute_result"
    },
    {
     "data": {
      "image/png": "[encoded data removed]",
      "text/plain": [
       "<Figure size 432x288 with 1 Axes>"
      ]
     },
     "metadata": {
      "needs_background": "light"
     },
     "output_type": "display_data"
    }
   ],
   "source": [
    "plt.bar(df['international_reputation'],df['potential'], width = 0.5)"
   ]
  },
  {
   "cell_type": "markdown",
   "id": "693c3109",
   "metadata": {},
   "source": [
    "This may be because, despite of having a reputation of 4 these players have shown more potantial than highly reputed players. There may have stalled their reputation in some controversy."
   ]
  },
  {
   "cell_type": "markdown",
   "id": "bc5b71b0",
   "metadata": {},
   "source": [
    "# Insight 2"
   ]
  },
  {
   "cell_type": "code",
   "execution_count": 7,
   "id": "dcfbf699",
   "metadata": {},
   "outputs": [
    {
     "data": {
      "text/plain": [
       "<matplotlib.collections.PathCollection at 0x24d85544220>"
      ]
     },
     "execution_count": 7,
     "metadata": {},
     "output_type": "execute_result"
    },
    {
     "data": {
      "image/png": "[encoded data removed]",
      "text/plain": [
       "<Figure size 432x288 with 1 Axes>"
      ]
     },
     "metadata": {
      "needs_background": "light"
     },
     "output_type": "display_data"
    }
   ],
   "source": [
    "plt.scatter(df['wage_eur'],df['age'])"
   ]
  },
  {
   "cell_type": "markdown",
   "id": "dd9a9072",
   "metadata": {},
   "source": [
    "Most of the high paid players are between the age range 25 to 35, This could mean that as the players get older their performace \n",
    "starts to dwindle and the players who are extemenly young are juveniles and they need to learn more. But the players who are 25-25 years of age are young as well as experienced so they are in more demand hence the high salary."
   ]
  },
  {
   "cell_type": "markdown",
   "id": "9cd2121f",
   "metadata": {},
   "source": [
    "# Insight 3"
   ]
  },
  {
   "cell_type": "code",
   "execution_count": 8,
   "id": "a8418503",
   "metadata": {},
   "outputs": [],
   "source": [
    "df_clubs=df['club_name'].value_counts()"
   ]
  },
  {
   "cell_type": "code",
   "execution_count": 9,
   "id": "bf091798",
   "metadata": {},
   "outputs": [
    {
     "data": {
      "text/plain": [
       "Venezia FC                         33\n",
       "Levante Unión Deportiva            33\n",
       "Manchester United                  33\n",
       "Wolverhampton Wanderers            33\n",
       "Leicester City                     33\n",
       "                                   ..\n",
       "Fortaleza                          20\n",
       "Cuiabá                             20\n",
       "Sport Club Corinthians Paulista    20\n",
       "Wellington Phoenix                 19\n",
       "Harrogate Town                     19\n",
       "Name: club_name, Length: 701, dtype: int64"
      ]
     },
     "execution_count": 9,
     "metadata": {},
     "output_type": "execute_result"
    }
   ],
   "source": [
    "df_clubs"
   ]
  },
  {
   "cell_type": "code",
   "execution_count": 10,
   "id": "92136e5d",
   "metadata": {
    "scrolled": true
   },
   "outputs": [
    {
     "data": {
      "text/plain": [
       "<AxesSubplot:>"
      ]
     },
     "execution_count": 10,
     "metadata": {},
     "output_type": "execute_result"
    },
    {
     "data": {
      "image/png": "[encoded data removed]",
      "text/plain": [
       "<Figure size 432x288 with 1 Axes>"
      ]
     },
     "metadata": {
      "needs_background": "light"
     },
     "output_type": "display_data"
    }
   ],
   "source": [
    "df_clubs.sort_values(ascending=False).head(25).plot(kind='bar')"
   ]
  },
  {
   "cell_type": "markdown",
   "id": "cb4fd71e",
   "metadata": {},
   "source": [
    "These are the clubs which have the most number of players. Meaning that these are the most sought after clubs with huge demand \n",
    "among the players."
   ]
  },
  {
   "cell_type": "markdown",
   "id": "12aacfb7",
   "metadata": {},
   "source": [
    "# Insight 4"
   ]
  },
  {
   "cell_type": "code",
   "execution_count": 11,
   "id": "d100c001",
   "metadata": {},
   "outputs": [
    {
     "data": {
      "text/plain": [
       "<AxesSubplot:>"
      ]
     },
     "execution_count": 11,
     "metadata": {},
     "output_type": "execute_result"
    },
    {
     "data": {
      "image/png": "[encoded data removed]",
      "text/plain": [
       "<Figure size 432x288 with 1 Axes>"
      ]
     },
     "metadata": {
      "needs_background": "light"
     },
     "output_type": "display_data"
    }
   ],
   "source": [
    "df_clubs.sort_values(ascending=False).tail(25).plot(kind='bar')"
   ]
  },
  {
   "cell_type": "markdown",
   "id": "16c76fbd",
   "metadata": {},
   "source": [
    "As evident, these clubs are struggling to hire players so they might be low on budget."
   ]
  },
  {
   "cell_type": "markdown",
   "id": "70395732",
   "metadata": {},
   "source": [
    "# Insight 5 (Lets do  messi vs ronaldo)"
   ]
  },
  {
   "cell_type": "code",
   "execution_count": 12,
   "id": "cf42dafe",
   "metadata": {},
   "outputs": [
    {
     "data": {
      "text/plain": [
       "<BarContainer object of 5 artists>"
      ]
     },
     "execution_count": 12,
     "metadata": {},
     "output_type": "execute_result"
    },
    {
     "data": {
      "image/png": "[encoded data removed]",
      "text/plain": [
       "<Figure size 432x288 with 1 Axes>"
      ]
     },
     "metadata": {
      "needs_background": "light"
     },
     "output_type": "display_data"
    }
   ],
   "source": [
    "money=df.sort_values('wage_eur', ascending=False)\n",
    "plt.bar(money['short_name'].head(),money['wage_eur'].head(), width = 0.5)"
   ]
  },
  {
   "cell_type": "markdown",
   "id": "b4fbbcf0",
   "metadata": {},
   "source": [
    "These are the list of the richest players in this dataset with Brune, Benzema and messi in the top 3 and cristiano ronaldo is \n",
    "not even in top 5."
   ]
  },
  {
   "cell_type": "markdown",
   "id": "40d01458",
   "metadata": {},
   "source": [
    "# Insight 6"
   ]
  },
  {
   "cell_type": "code",
   "execution_count": 13,
   "id": "46f76448",
   "metadata": {},
   "outputs": [
    {
     "data": {
      "text/plain": [
       "<BarContainer object of 5 artists>"
      ]
     },
     "execution_count": 13,
     "metadata": {},
     "output_type": "execute_result"
    },
    {
     "data": {
      "image/png": "[encoded data removed]",
      "text/plain": [
       "<Figure size 432x288 with 1 Axes>"
      ]
     },
     "metadata": {
      "needs_background": "light"
     },
     "output_type": "display_data"
    }
   ],
   "source": [
    "plt.bar(df['short_name'].head(),df['overall'].head(), width = 0.5)"
   ]
  },
  {
   "cell_type": "markdown",
   "id": "550c2291",
   "metadata": {},
   "source": [
    "Overall L.Messi is the best active football player followed by Levandowski and CR7"
   ]
  },
  {
   "cell_type": "markdown",
   "id": "2a213875",
   "metadata": {},
   "source": [
    "# ---------------------------------------------------------------------------------------------------------------"
   ]
  },
  {
   "cell_type": "markdown",
   "id": "86f87f78",
   "metadata": {},
   "source": [
    "# Question 2"
   ]
  },
  {
   "cell_type": "code",
   "execution_count": 14,
   "id": "be010852",
   "metadata": {},
   "outputs": [
    {
     "data": {
      "text/html": [
       "<div>\n",
       "<style scoped>\n",
       "    .dataframe tbody tr th:only-of-type {\n",
       "        vertical-align: middle;\n",
       "    }\n",
       "\n",
       "    .dataframe tbody tr th {\n",
       "        vertical-align: top;\n",
       "    }\n",
       "\n",
       "    .dataframe thead th {\n",
       "        text-align: right;\n",
       "    }\n",
       "</style>\n",
       "<table border=\"1\" class=\"dataframe\">\n",
       "  <thead>\n",
       "    <tr style=\"text-align: right;\">\n",
       "      <th></th>\n",
       "      <th>sofifa_id</th>\n",
       "      <th>player_url</th>\n",
       "      <th>short_name</th>\n",
       "      <th>long_name</th>\n",
       "      <th>player_positions</th>\n",
       "      <th>overall</th>\n",
       "      <th>potential</th>\n",
       "      <th>value_eur</th>\n",
       "      <th>wage_eur</th>\n",
       "      <th>age</th>\n",
       "      <th>...</th>\n",
       "      <th>lcb</th>\n",
       "      <th>cb</th>\n",
       "      <th>rcb</th>\n",
       "      <th>rb</th>\n",
       "      <th>gk</th>\n",
       "      <th>player_face_url</th>\n",
       "      <th>club_logo_url</th>\n",
       "      <th>club_flag_url</th>\n",
       "      <th>nation_logo_url</th>\n",
       "      <th>nation_flag_url</th>\n",
       "    </tr>\n",
       "  </thead>\n",
       "  <tbody>\n",
       "    <tr>\n",
       "      <th>12</th>\n",
       "      <td>192119</td>\n",
       "      <td>https://sofifa.com/player/192119/thibaut-court...</td>\n",
       "      <td>T. Courtois</td>\n",
       "      <td>Thibaut Courtois</td>\n",
       "      <td>GK</td>\n",
       "      <td>89</td>\n",
       "      <td>91</td>\n",
       "      <td>85500000.0</td>\n",
       "      <td>250000.0</td>\n",
       "      <td>29</td>\n",
       "      <td>...</td>\n",
       "      <td>29+3</td>\n",
       "      <td>29+3</td>\n",
       "      <td>29+3</td>\n",
       "      <td>29+3</td>\n",
       "      <td>86+3</td>\n",
       "      <td>https://cdn.sofifa.net/players/192/119/22_120.png</td>\n",
       "      <td>https://cdn.sofifa.net/teams/243/60.png</td>\n",
       "      <td>https://cdn.sofifa.net/flags/es.png</td>\n",
       "      <td>https://cdn.sofifa.net/teams/1325/60.png</td>\n",
       "      <td>https://cdn.sofifa.net/flags/be.png</td>\n",
       "    </tr>\n",
       "    <tr>\n",
       "      <th>2386</th>\n",
       "      <td>243952</td>\n",
       "      <td>https://sofifa.com/player/243952/andriy-lunin/...</td>\n",
       "      <td>A. Lunin</td>\n",
       "      <td>Andriy Lunin</td>\n",
       "      <td>GK</td>\n",
       "      <td>74</td>\n",
       "      <td>85</td>\n",
       "      <td>8000000.0</td>\n",
       "      <td>59000.0</td>\n",
       "      <td>22</td>\n",
       "      <td>...</td>\n",
       "      <td>26+2</td>\n",
       "      <td>26+2</td>\n",
       "      <td>26+2</td>\n",
       "      <td>25+2</td>\n",
       "      <td>73+2</td>\n",
       "      <td>https://cdn.sofifa.net/players/243/952/22_120.png</td>\n",
       "      <td>https://cdn.sofifa.net/teams/243/60.png</td>\n",
       "      <td>https://cdn.sofifa.net/flags/es.png</td>\n",
       "      <td>NaN</td>\n",
       "      <td>https://cdn.sofifa.net/flags/ua.png</td>\n",
       "    </tr>\n",
       "    <tr>\n",
       "      <th>13354</th>\n",
       "      <td>264170</td>\n",
       "      <td>https://sofifa.com/player/264170/luis-federico...</td>\n",
       "      <td>Luis López</td>\n",
       "      <td>Luis Federico López Andúgar</td>\n",
       "      <td>GK</td>\n",
       "      <td>63</td>\n",
       "      <td>76</td>\n",
       "      <td>1000000.0</td>\n",
       "      <td>11000.0</td>\n",
       "      <td>20</td>\n",
       "      <td>...</td>\n",
       "      <td>20+2</td>\n",
       "      <td>20+2</td>\n",
       "      <td>20+2</td>\n",
       "      <td>18+2</td>\n",
       "      <td>62+2</td>\n",
       "      <td>https://cdn.sofifa.net/players/264/170/22_120.png</td>\n",
       "      <td>https://cdn.sofifa.net/teams/243/60.png</td>\n",
       "      <td>https://cdn.sofifa.net/flags/es.png</td>\n",
       "      <td>NaN</td>\n",
       "      <td>https://cdn.sofifa.net/flags/es.png</td>\n",
       "    </tr>\n",
       "  </tbody>\n",
       "</table>\n",
       "<p>3 rows × 110 columns</p>\n",
       "</div>"
      ],
      "text/plain": [
       "       sofifa_id                                         player_url  \\\n",
       "12        192119  https://sofifa.com/player/192119/thibaut-court...   \n",
       "2386      243952  https://sofifa.com/player/243952/andriy-lunin/...   \n",
       "13354     264170  https://sofifa.com/player/264170/luis-federico...   \n",
       "\n",
       "        short_name                    long_name player_positions  overall  \\\n",
       "12     T. Courtois             Thibaut Courtois               GK       89   \n",
       "2386      A. Lunin                 Andriy Lunin               GK       74   \n",
       "13354   Luis López  Luis Federico López Andúgar               GK       63   \n",
       "\n",
       "       potential   value_eur  wage_eur  age  ...   lcb    cb   rcb    rb  \\\n",
       "12            91  85500000.0  250000.0   29  ...  29+3  29+3  29+3  29+3   \n",
       "2386          85   8000000.0   59000.0   22  ...  26+2  26+2  26+2  25+2   \n",
       "13354         76   1000000.0   11000.0   20  ...  20+2  20+2  20+2  18+2   \n",
       "\n",
       "         gk                                    player_face_url  \\\n",
       "12     86+3  https://cdn.sofifa.net/players/192/119/22_120.png   \n",
       "2386   73+2  https://cdn.sofifa.net/players/243/952/22_120.png   \n",
       "13354  62+2  https://cdn.sofifa.net/players/264/170/22_120.png   \n",
       "\n",
       "                                 club_logo_url  \\\n",
       "12     https://cdn.sofifa.net/teams/243/60.png   \n",
       "2386   https://cdn.sofifa.net/teams/243/60.png   \n",
       "13354  https://cdn.sofifa.net/teams/243/60.png   \n",
       "\n",
       "                             club_flag_url  \\\n",
       "12     https://cdn.sofifa.net/flags/es.png   \n",
       "2386   https://cdn.sofifa.net/flags/es.png   \n",
       "13354  https://cdn.sofifa.net/flags/es.png   \n",
       "\n",
       "                                nation_logo_url  \\\n",
       "12     https://cdn.sofifa.net/teams/1325/60.png   \n",
       "2386                                        NaN   \n",
       "13354                                       NaN   \n",
       "\n",
       "                           nation_flag_url  \n",
       "12     https://cdn.sofifa.net/flags/be.png  \n",
       "2386   https://cdn.sofifa.net/flags/ua.png  \n",
       "13354  https://cdn.sofifa.net/flags/es.png  \n",
       "\n",
       "[3 rows x 110 columns]"
      ]
     },
     "execution_count": 14,
     "metadata": {},
     "output_type": "execute_result"
    }
   ],
   "source": [
    "df[(df['player_positions'] == 'GK') & (df['club_name'] == 'Real Madrid CF')]"
   ]
  },
  {
   "cell_type": "markdown",
   "id": "d3bda971",
   "metadata": {},
   "source": [
    "# Since we only have 3 goal keepers from real madrid, so its better that we look for goal keepers from other clubs as well and by goal keepers we mean the best ones.\n",
    "So we can filter this data for all the goal keepers who are from any other club except for real madrid."
   ]
  },
  {
   "cell_type": "markdown",
   "id": "ce35bab3",
   "metadata": {},
   "source": [
    "![](https://media.tenor.com/JtAKP4atRPIAAAAM/real-madrid-felicidades-al-madrid.gif)"
   ]
  },
  {
   "cell_type": "code",
   "execution_count": 15,
   "id": "45a602a6",
   "metadata": {},
   "outputs": [],
   "source": [
    "df_gk=df[(df['player_positions'] == 'GK') & (df['club_name'] != 'Real Madrid CF') & (df['age'] <= 26)]"
   ]
  },
  {
   "cell_type": "code",
   "execution_count": 16,
   "id": "35e7c4c5",
   "metadata": {},
   "outputs": [
    {
     "data": {
      "text/html": [
       "<div>\n",
       "<style scoped>\n",
       "    .dataframe tbody tr th:only-of-type {\n",
       "        vertical-align: middle;\n",
       "    }\n",
       "\n",
       "    .dataframe tbody tr th {\n",
       "        vertical-align: top;\n",
       "    }\n",
       "\n",
       "    .dataframe thead th {\n",
       "        text-align: right;\n",
       "    }\n",
       "</style>\n",
       "<table border=\"1\" class=\"dataframe\">\n",
       "  <thead>\n",
       "    <tr style=\"text-align: right;\">\n",
       "      <th></th>\n",
       "      <th>sofifa_id</th>\n",
       "      <th>player_url</th>\n",
       "      <th>short_name</th>\n",
       "      <th>long_name</th>\n",
       "      <th>player_positions</th>\n",
       "      <th>overall</th>\n",
       "      <th>potential</th>\n",
       "      <th>value_eur</th>\n",
       "      <th>wage_eur</th>\n",
       "      <th>age</th>\n",
       "      <th>...</th>\n",
       "      <th>lcb</th>\n",
       "      <th>cb</th>\n",
       "      <th>rcb</th>\n",
       "      <th>rb</th>\n",
       "      <th>gk</th>\n",
       "      <th>player_face_url</th>\n",
       "      <th>club_logo_url</th>\n",
       "      <th>club_flag_url</th>\n",
       "      <th>nation_logo_url</th>\n",
       "      <th>nation_flag_url</th>\n",
       "    </tr>\n",
       "  </thead>\n",
       "  <tbody>\n",
       "    <tr>\n",
       "      <th>21</th>\n",
       "      <td>230621</td>\n",
       "      <td>https://sofifa.com/player/230621/gianluigi-don...</td>\n",
       "      <td>G. Donnarumma</td>\n",
       "      <td>Gianluigi Donnarumma</td>\n",
       "      <td>GK</td>\n",
       "      <td>89</td>\n",
       "      <td>93</td>\n",
       "      <td>119500000.0</td>\n",
       "      <td>110000.0</td>\n",
       "      <td>22</td>\n",
       "      <td>...</td>\n",
       "      <td>31+3</td>\n",
       "      <td>31+3</td>\n",
       "      <td>31+3</td>\n",
       "      <td>31+3</td>\n",
       "      <td>87+3</td>\n",
       "      <td>https://cdn.sofifa.net/players/230/621/22_120.png</td>\n",
       "      <td>https://cdn.sofifa.net/teams/73/60.png</td>\n",
       "      <td>https://cdn.sofifa.net/flags/fr.png</td>\n",
       "      <td>https://cdn.sofifa.net/teams/1343/60.png</td>\n",
       "      <td>https://cdn.sofifa.net/flags/it.png</td>\n",
       "    </tr>\n",
       "    <tr>\n",
       "      <th>127</th>\n",
       "      <td>215698</td>\n",
       "      <td>https://sofifa.com/player/215698/mike-maignan/...</td>\n",
       "      <td>M. Maignan</td>\n",
       "      <td>Mike Maignan</td>\n",
       "      <td>GK</td>\n",
       "      <td>84</td>\n",
       "      <td>89</td>\n",
       "      <td>49500000.0</td>\n",
       "      <td>45000.0</td>\n",
       "      <td>25</td>\n",
       "      <td>...</td>\n",
       "      <td>34+2</td>\n",
       "      <td>34+2</td>\n",
       "      <td>34+2</td>\n",
       "      <td>34+2</td>\n",
       "      <td>83+2</td>\n",
       "      <td>https://cdn.sofifa.net/players/215/698/22_120.png</td>\n",
       "      <td>https://cdn.sofifa.net/teams/47/60.png</td>\n",
       "      <td>https://cdn.sofifa.net/flags/it.png</td>\n",
       "      <td>https://cdn.sofifa.net/teams/1335/60.png</td>\n",
       "      <td>https://cdn.sofifa.net/flags/fr.png</td>\n",
       "    </tr>\n",
       "    <tr>\n",
       "      <th>243</th>\n",
       "      <td>211515</td>\n",
       "      <td>https://sofifa.com/player/211515/pierluigi-gol...</td>\n",
       "      <td>P. Gollini</td>\n",
       "      <td>Pierluigi Gollini</td>\n",
       "      <td>GK</td>\n",
       "      <td>82</td>\n",
       "      <td>87</td>\n",
       "      <td>35000000.0</td>\n",
       "      <td>48000.0</td>\n",
       "      <td>26</td>\n",
       "      <td>...</td>\n",
       "      <td>28+2</td>\n",
       "      <td>28+2</td>\n",
       "      <td>28+2</td>\n",
       "      <td>29+2</td>\n",
       "      <td>81+2</td>\n",
       "      <td>https://cdn.sofifa.net/players/211/515/22_120.png</td>\n",
       "      <td>https://cdn.sofifa.net/teams/18/60.png</td>\n",
       "      <td>https://cdn.sofifa.net/flags/gb-eng.png</td>\n",
       "      <td>NaN</td>\n",
       "      <td>https://cdn.sofifa.net/flags/it.png</td>\n",
       "    </tr>\n",
       "    <tr>\n",
       "      <th>267</th>\n",
       "      <td>230869</td>\n",
       "      <td>https://sofifa.com/player/230869/unai-simon-me...</td>\n",
       "      <td>Unai Simón</td>\n",
       "      <td>Unai Simón Mendibil</td>\n",
       "      <td>GK</td>\n",
       "      <td>82</td>\n",
       "      <td>86</td>\n",
       "      <td>34500000.0</td>\n",
       "      <td>24000.0</td>\n",
       "      <td>24</td>\n",
       "      <td>...</td>\n",
       "      <td>30+3</td>\n",
       "      <td>30+3</td>\n",
       "      <td>30+3</td>\n",
       "      <td>29+3</td>\n",
       "      <td>81+3</td>\n",
       "      <td>https://cdn.sofifa.net/players/230/869/22_120.png</td>\n",
       "      <td>https://cdn.sofifa.net/teams/448/60.png</td>\n",
       "      <td>https://cdn.sofifa.net/flags/es.png</td>\n",
       "      <td>https://cdn.sofifa.net/teams/1362/60.png</td>\n",
       "      <td>https://cdn.sofifa.net/flags/es.png</td>\n",
       "    </tr>\n",
       "    <tr>\n",
       "      <th>282</th>\n",
       "      <td>241671</td>\n",
       "      <td>https://sofifa.com/player/241671/dominik-livak...</td>\n",
       "      <td>D. Livaković</td>\n",
       "      <td>Dominik Livaković</td>\n",
       "      <td>GK</td>\n",
       "      <td>82</td>\n",
       "      <td>87</td>\n",
       "      <td>35000000.0</td>\n",
       "      <td>1000.0</td>\n",
       "      <td>26</td>\n",
       "      <td>...</td>\n",
       "      <td>33+2</td>\n",
       "      <td>33+2</td>\n",
       "      <td>33+2</td>\n",
       "      <td>32+2</td>\n",
       "      <td>81+2</td>\n",
       "      <td>https://cdn.sofifa.net/players/241/671/22_120.png</td>\n",
       "      <td>https://cdn.sofifa.net/teams/211/60.png</td>\n",
       "      <td>https://cdn.sofifa.net/flags/hr.png</td>\n",
       "      <td>NaN</td>\n",
       "      <td>https://cdn.sofifa.net/flags/hr.png</td>\n",
       "    </tr>\n",
       "    <tr>\n",
       "      <th>...</th>\n",
       "      <td>...</td>\n",
       "      <td>...</td>\n",
       "      <td>...</td>\n",
       "      <td>...</td>\n",
       "      <td>...</td>\n",
       "      <td>...</td>\n",
       "      <td>...</td>\n",
       "      <td>...</td>\n",
       "      <td>...</td>\n",
       "      <td>...</td>\n",
       "      <td>...</td>\n",
       "      <td>...</td>\n",
       "      <td>...</td>\n",
       "      <td>...</td>\n",
       "      <td>...</td>\n",
       "      <td>...</td>\n",
       "      <td>...</td>\n",
       "      <td>...</td>\n",
       "      <td>...</td>\n",
       "      <td>...</td>\n",
       "      <td>...</td>\n",
       "    </tr>\n",
       "    <tr>\n",
       "      <th>19210</th>\n",
       "      <td>261958</td>\n",
       "      <td>https://sofifa.com/player/261958/xiang-gao/220002</td>\n",
       "      <td>Gao Xiang</td>\n",
       "      <td>高翔</td>\n",
       "      <td>GK</td>\n",
       "      <td>48</td>\n",
       "      <td>54</td>\n",
       "      <td>60000.0</td>\n",
       "      <td>800.0</td>\n",
       "      <td>20</td>\n",
       "      <td>...</td>\n",
       "      <td>21+2</td>\n",
       "      <td>21+2</td>\n",
       "      <td>21+2</td>\n",
       "      <td>17+2</td>\n",
       "      <td>47+2</td>\n",
       "      <td>https://cdn.sofifa.net/players/261/958/22_120.png</td>\n",
       "      <td>https://cdn.sofifa.net/teams/112541/60.png</td>\n",
       "      <td>https://cdn.sofifa.net/flags/cn.png</td>\n",
       "      <td>NaN</td>\n",
       "      <td>https://cdn.sofifa.net/flags/cn.png</td>\n",
       "    </tr>\n",
       "    <tr>\n",
       "      <th>19216</th>\n",
       "      <td>263340</td>\n",
       "      <td>https://sofifa.com/player/263340/harvey-wiles-...</td>\n",
       "      <td>H. Wiles-Richards</td>\n",
       "      <td>Harvey Wiles-Richards</td>\n",
       "      <td>GK</td>\n",
       "      <td>48</td>\n",
       "      <td>65</td>\n",
       "      <td>110000.0</td>\n",
       "      <td>1000.0</td>\n",
       "      <td>19</td>\n",
       "      <td>...</td>\n",
       "      <td>20+2</td>\n",
       "      <td>20+2</td>\n",
       "      <td>20+2</td>\n",
       "      <td>19+2</td>\n",
       "      <td>47+2</td>\n",
       "      <td>https://cdn.sofifa.net/players/263/340/22_120.png</td>\n",
       "      <td>https://cdn.sofifa.net/teams/1919/60.png</td>\n",
       "      <td>https://cdn.sofifa.net/flags/gb-eng.png</td>\n",
       "      <td>NaN</td>\n",
       "      <td>https://cdn.sofifa.net/flags/gb-eng.png</td>\n",
       "    </tr>\n",
       "    <tr>\n",
       "      <th>19225</th>\n",
       "      <td>259213</td>\n",
       "      <td>https://sofifa.com/player/259213/dylan-da-silv...</td>\n",
       "      <td>D. Da Silva</td>\n",
       "      <td>Dylan Da Silva</td>\n",
       "      <td>GK</td>\n",
       "      <td>47</td>\n",
       "      <td>55</td>\n",
       "      <td>90000.0</td>\n",
       "      <td>500.0</td>\n",
       "      <td>21</td>\n",
       "      <td>...</td>\n",
       "      <td>19+2</td>\n",
       "      <td>19+2</td>\n",
       "      <td>19+2</td>\n",
       "      <td>18+2</td>\n",
       "      <td>46+2</td>\n",
       "      <td>https://cdn.sofifa.net/players/259/213/22_120.png</td>\n",
       "      <td>https://cdn.sofifa.net/teams/113298/60.png</td>\n",
       "      <td>https://cdn.sofifa.net/flags/in.png</td>\n",
       "      <td>NaN</td>\n",
       "      <td>https://cdn.sofifa.net/flags/in.png</td>\n",
       "    </tr>\n",
       "    <tr>\n",
       "      <th>19227</th>\n",
       "      <td>259646</td>\n",
       "      <td>https://sofifa.com/player/259646/arsh-shaikh/2...</td>\n",
       "      <td>A. Shaikh</td>\n",
       "      <td>Arsh Shaikh</td>\n",
       "      <td>GK</td>\n",
       "      <td>47</td>\n",
       "      <td>67</td>\n",
       "      <td>110000.0</td>\n",
       "      <td>500.0</td>\n",
       "      <td>18</td>\n",
       "      <td>...</td>\n",
       "      <td>17+2</td>\n",
       "      <td>17+2</td>\n",
       "      <td>17+2</td>\n",
       "      <td>16+2</td>\n",
       "      <td>46+2</td>\n",
       "      <td>https://cdn.sofifa.net/players/259/646/22_120.png</td>\n",
       "      <td>https://cdn.sofifa.net/teams/113146/60.png</td>\n",
       "      <td>https://cdn.sofifa.net/flags/in.png</td>\n",
       "      <td>NaN</td>\n",
       "      <td>https://cdn.sofifa.net/flags/in.png</td>\n",
       "    </tr>\n",
       "    <tr>\n",
       "      <th>19231</th>\n",
       "      <td>261547</td>\n",
       "      <td>https://sofifa.com/player/261547/revanth-by/22...</td>\n",
       "      <td>R. By</td>\n",
       "      <td>Revanth By</td>\n",
       "      <td>GK</td>\n",
       "      <td>47</td>\n",
       "      <td>55</td>\n",
       "      <td>90000.0</td>\n",
       "      <td>500.0</td>\n",
       "      <td>22</td>\n",
       "      <td>...</td>\n",
       "      <td>19+2</td>\n",
       "      <td>19+2</td>\n",
       "      <td>19+2</td>\n",
       "      <td>16+2</td>\n",
       "      <td>46+2</td>\n",
       "      <td>https://cdn.sofifa.net/players/261/547/22_120.png</td>\n",
       "      <td>https://cdn.sofifa.net/teams/113297/60.png</td>\n",
       "      <td>https://cdn.sofifa.net/flags/in.png</td>\n",
       "      <td>NaN</td>\n",
       "      <td>https://cdn.sofifa.net/flags/in.png</td>\n",
       "    </tr>\n",
       "  </tbody>\n",
       "</table>\n",
       "<p>1180 rows × 110 columns</p>\n",
       "</div>"
      ],
      "text/plain": [
       "       sofifa_id                                         player_url  \\\n",
       "21        230621  https://sofifa.com/player/230621/gianluigi-don...   \n",
       "127       215698  https://sofifa.com/player/215698/mike-maignan/...   \n",
       "243       211515  https://sofifa.com/player/211515/pierluigi-gol...   \n",
       "267       230869  https://sofifa.com/player/230869/unai-simon-me...   \n",
       "282       241671  https://sofifa.com/player/241671/dominik-livak...   \n",
       "...          ...                                                ...   \n",
       "19210     261958  https://sofifa.com/player/261958/xiang-gao/220002   \n",
       "19216     263340  https://sofifa.com/player/263340/harvey-wiles-...   \n",
       "19225     259213  https://sofifa.com/player/259213/dylan-da-silv...   \n",
       "19227     259646  https://sofifa.com/player/259646/arsh-shaikh/2...   \n",
       "19231     261547  https://sofifa.com/player/261547/revanth-by/22...   \n",
       "\n",
       "              short_name              long_name player_positions  overall  \\\n",
       "21         G. Donnarumma   Gianluigi Donnarumma               GK       89   \n",
       "127           M. Maignan           Mike Maignan               GK       84   \n",
       "243           P. Gollini      Pierluigi Gollini               GK       82   \n",
       "267           Unai Simón    Unai Simón Mendibil               GK       82   \n",
       "282         D. Livaković      Dominik Livaković               GK       82   \n",
       "...                  ...                    ...              ...      ...   \n",
       "19210          Gao Xiang                     高翔               GK       48   \n",
       "19216  H. Wiles-Richards  Harvey Wiles-Richards               GK       48   \n",
       "19225        D. Da Silva         Dylan Da Silva               GK       47   \n",
       "19227          A. Shaikh            Arsh Shaikh               GK       47   \n",
       "19231              R. By             Revanth By               GK       47   \n",
       "\n",
       "       potential    value_eur  wage_eur  age  ...   lcb    cb   rcb    rb  \\\n",
       "21            93  119500000.0  110000.0   22  ...  31+3  31+3  31+3  31+3   \n",
       "127           89   49500000.0   45000.0   25  ...  34+2  34+2  34+2  34+2   \n",
       "243           87   35000000.0   48000.0   26  ...  28+2  28+2  28+2  29+2   \n",
       "267           86   34500000.0   24000.0   24  ...  30+3  30+3  30+3  29+3   \n",
       "282           87   35000000.0    1000.0   26  ...  33+2  33+2  33+2  32+2   \n",
       "...          ...          ...       ...  ...  ...   ...   ...   ...   ...   \n",
       "19210         54      60000.0     800.0   20  ...  21+2  21+2  21+2  17+2   \n",
       "19216         65     110000.0    1000.0   19  ...  20+2  20+2  20+2  19+2   \n",
       "19225         55      90000.0     500.0   21  ...  19+2  19+2  19+2  18+2   \n",
       "19227         67     110000.0     500.0   18  ...  17+2  17+2  17+2  16+2   \n",
       "19231         55      90000.0     500.0   22  ...  19+2  19+2  19+2  16+2   \n",
       "\n",
       "         gk                                    player_face_url  \\\n",
       "21     87+3  https://cdn.sofifa.net/players/230/621/22_120.png   \n",
       "127    83+2  https://cdn.sofifa.net/players/215/698/22_120.png   \n",
       "243    81+2  https://cdn.sofifa.net/players/211/515/22_120.png   \n",
       "267    81+3  https://cdn.sofifa.net/players/230/869/22_120.png   \n",
       "282    81+2  https://cdn.sofifa.net/players/241/671/22_120.png   \n",
       "...     ...                                                ...   \n",
       "19210  47+2  https://cdn.sofifa.net/players/261/958/22_120.png   \n",
       "19216  47+2  https://cdn.sofifa.net/players/263/340/22_120.png   \n",
       "19225  46+2  https://cdn.sofifa.net/players/259/213/22_120.png   \n",
       "19227  46+2  https://cdn.sofifa.net/players/259/646/22_120.png   \n",
       "19231  46+2  https://cdn.sofifa.net/players/261/547/22_120.png   \n",
       "\n",
       "                                    club_logo_url  \\\n",
       "21         https://cdn.sofifa.net/teams/73/60.png   \n",
       "127        https://cdn.sofifa.net/teams/47/60.png   \n",
       "243        https://cdn.sofifa.net/teams/18/60.png   \n",
       "267       https://cdn.sofifa.net/teams/448/60.png   \n",
       "282       https://cdn.sofifa.net/teams/211/60.png   \n",
       "...                                           ...   \n",
       "19210  https://cdn.sofifa.net/teams/112541/60.png   \n",
       "19216    https://cdn.sofifa.net/teams/1919/60.png   \n",
       "19225  https://cdn.sofifa.net/teams/113298/60.png   \n",
       "19227  https://cdn.sofifa.net/teams/113146/60.png   \n",
       "19231  https://cdn.sofifa.net/teams/113297/60.png   \n",
       "\n",
       "                                 club_flag_url  \\\n",
       "21         https://cdn.sofifa.net/flags/fr.png   \n",
       "127        https://cdn.sofifa.net/flags/it.png   \n",
       "243    https://cdn.sofifa.net/flags/gb-eng.png   \n",
       "267        https://cdn.sofifa.net/flags/es.png   \n",
       "282        https://cdn.sofifa.net/flags/hr.png   \n",
       "...                                        ...   \n",
       "19210      https://cdn.sofifa.net/flags/cn.png   \n",
       "19216  https://cdn.sofifa.net/flags/gb-eng.png   \n",
       "19225      https://cdn.sofifa.net/flags/in.png   \n",
       "19227      https://cdn.sofifa.net/flags/in.png   \n",
       "19231      https://cdn.sofifa.net/flags/in.png   \n",
       "\n",
       "                                nation_logo_url  \\\n",
       "21     https://cdn.sofifa.net/teams/1343/60.png   \n",
       "127    https://cdn.sofifa.net/teams/1335/60.png   \n",
       "243                                         NaN   \n",
       "267    https://cdn.sofifa.net/teams/1362/60.png   \n",
       "282                                         NaN   \n",
       "...                                         ...   \n",
       "19210                                       NaN   \n",
       "19216                                       NaN   \n",
       "19225                                       NaN   \n",
       "19227                                       NaN   \n",
       "19231                                       NaN   \n",
       "\n",
       "                               nation_flag_url  \n",
       "21         https://cdn.sofifa.net/flags/it.png  \n",
       "127        https://cdn.sofifa.net/flags/fr.png  \n",
       "243        https://cdn.sofifa.net/flags/it.png  \n",
       "267        https://cdn.sofifa.net/flags/es.png  \n",
       "282        https://cdn.sofifa.net/flags/hr.png  \n",
       "...                                        ...  \n",
       "19210      https://cdn.sofifa.net/flags/cn.png  \n",
       "19216  https://cdn.sofifa.net/flags/gb-eng.png  \n",
       "19225      https://cdn.sofifa.net/flags/in.png  \n",
       "19227      https://cdn.sofifa.net/flags/in.png  \n",
       "19231      https://cdn.sofifa.net/flags/in.png  \n",
       "\n",
       "[1180 rows x 110 columns]"
      ]
     },
     "execution_count": 16,
     "metadata": {},
     "output_type": "execute_result"
    }
   ],
   "source": [
    "df_gk"
   ]
  },
  {
   "cell_type": "markdown",
   "id": "820c8a49",
   "metadata": {},
   "source": [
    "# We have 1180 eligible goal keepers. Before moving further let us define the KPI's based on which we'll be selecting Goal keepers. We do not need all the parameters given in the dataset so we'll be scouting them based on Goal keeping parameters such as:\n",
    "\n",
    "                1)goalkeeping_diving\n",
    "                2)goalkeeping_handling\n",
    "                3)goalkeeping_kicking\n",
    "                4)goalkeeping_reflexes\n",
    "                5)goalkeeping_speed"
   ]
  },
  {
   "cell_type": "markdown",
   "id": "1364cb9c",
   "metadata": {},
   "source": [
    "![](https://media.tenor.com/sLQpegIu9cIAAAAM/people-were-saying-nice-things-about-my-performance-molly-shannon.gif)"
   ]
  },
  {
   "cell_type": "code",
   "execution_count": 17,
   "id": "06f0918f",
   "metadata": {},
   "outputs": [],
   "source": [
    "top_diving=df_gk.sort_values('goalkeeping_diving', ascending=False)"
   ]
  },
  {
   "cell_type": "code",
   "execution_count": 18,
   "id": "6994f632",
   "metadata": {},
   "outputs": [
    {
     "data": {
      "text/plain": [
       "21          Gianluigi Donnarumma\n",
       "363    Alejandro Remiro Gargallo\n",
       "127                 Mike Maignan\n",
       "243            Pierluigi Gollini\n",
       "267          Unai Simón Mendibil\n",
       "Name: long_name, dtype: object"
      ]
     },
     "execution_count": 18,
     "metadata": {},
     "output_type": "execute_result"
    }
   ],
   "source": [
    "top_diving['long_name'].head()"
   ]
  },
  {
   "cell_type": "code",
   "execution_count": 19,
   "id": "d6833588",
   "metadata": {},
   "outputs": [
    {
     "data": {
      "text/plain": [
       "<BarContainer object of 5 artists>"
      ]
     },
     "execution_count": 19,
     "metadata": {},
     "output_type": "execute_result"
    },
    {
     "data": {
      "image/png": "[encoded data removed]",
      "text/plain": [
       "<Figure size 432x288 with 1 Axes>"
      ]
     },
     "metadata": {
      "needs_background": "light"
     },
     "output_type": "display_data"
    }
   ],
   "source": [
    "plt.bar(top_diving['short_name'].head(),top_diving['goalkeeping_diving'].head(), width = 0.5)"
   ]
  },
  {
   "cell_type": "code",
   "execution_count": 20,
   "id": "5343864d",
   "metadata": {},
   "outputs": [
    {
     "data": {
      "text/plain": [
       "<BarContainer object of 5 artists>"
      ]
     },
     "execution_count": 20,
     "metadata": {},
     "output_type": "execute_result"
    },
    {
     "data": {
      "image/png": "[encoded data removed]",
      "text/plain": [
       "<Figure size 432x288 with 1 Axes>"
      ]
     },
     "metadata": {
      "needs_background": "light"
     },
     "output_type": "display_data"
    }
   ],
   "source": [
    "top_handling=df_gk.sort_values('goalkeeping_handling', ascending=False)\n",
    "plt.bar(top_handling['short_name'].head(),top_handling['goalkeeping_handling'].head(), width = 0.5)"
   ]
  },
  {
   "cell_type": "code",
   "execution_count": 21,
   "id": "1aff5bce",
   "metadata": {},
   "outputs": [
    {
     "data": {
      "text/plain": [
       "<BarContainer object of 5 artists>"
      ]
     },
     "execution_count": 21,
     "metadata": {},
     "output_type": "execute_result"
    },
    {
     "data": {
      "image/png": "[encoded data removed]",
      "text/plain": [
       "<Figure size 432x288 with 1 Axes>"
      ]
     },
     "metadata": {
      "needs_background": "light"
     },
     "output_type": "display_data"
    }
   ],
   "source": [
    "top_kicking=df_gk.sort_values('goalkeeping_kicking', ascending=False)\n",
    "plt.bar(top_kicking['short_name'].head(),top_kicking['goalkeeping_kicking'].head(), width = 0.5)"
   ]
  },
  {
   "cell_type": "code",
   "execution_count": 22,
   "id": "229da395",
   "metadata": {},
   "outputs": [
    {
     "data": {
      "text/plain": [
       "<BarContainer object of 5 artists>"
      ]
     },
     "execution_count": 22,
     "metadata": {},
     "output_type": "execute_result"
    },
    {
     "data": {
      "image/png": "[encoded data removed]",
      "text/plain": [
       "<Figure size 432x288 with 1 Axes>"
      ]
     },
     "metadata": {
      "needs_background": "light"
     },
     "output_type": "display_data"
    }
   ],
   "source": [
    "top_reflexes=df_gk.sort_values('goalkeeping_reflexes', ascending=False)\n",
    "plt.bar(top_reflexes['short_name'].head(),top_reflexes['goalkeeping_reflexes'].head(), width = 0.5)"
   ]
  },
  {
   "cell_type": "code",
   "execution_count": 23,
   "id": "87a22278",
   "metadata": {
    "scrolled": true
   },
   "outputs": [
    {
     "data": {
      "text/plain": [
       "<BarContainer object of 5 artists>"
      ]
     },
     "execution_count": 23,
     "metadata": {},
     "output_type": "execute_result"
    },
    {
     "data": {
      "image/png": "[encoded data removed]",
      "text/plain": [
       "<Figure size 432x288 with 1 Axes>"
      ]
     },
     "metadata": {
      "needs_background": "light"
     },
     "output_type": "display_data"
    }
   ],
   "source": [
    "top_speed=df_gk.sort_values('goalkeeping_speed', ascending=False)\n",
    "plt.bar(top_speed['short_name'].head(),top_speed['goalkeeping_speed'].head(), width = 0.5)"
   ]
  },
  {
   "cell_type": "markdown",
   "id": "33900fc2",
   "metadata": {},
   "source": [
    "# Final judgement:\n",
    "Gianluigi Donnarumma has the best reflexes, handling and diving and is the 4th best in goal kicking.\n",
    "Undoubtedly he is the best option available and the most complete player.\n",
    "However incase we are not able to cast him into our lot, we have another budding player M. Maignan who is in the top 3 in all the  parameters except for speed.\n",
    "So my picks would be either of these two but preferably Gianluigi Donnarumma.\n"
   ]
  },
  {
   "cell_type": "markdown",
   "id": "d8ff9554",
   "metadata": {},
   "source": [
    "![](https://media.tenor.com/LOQBvUdPWGcAAAAM/its-a-little-bit-of-both-maybe-dr-wenowdis.gif)"
   ]
  },
  {
   "cell_type": "markdown",
   "id": "b0037e4d",
   "metadata": {},
   "source": [
    "# ---------------------------------------------------------------------------------------------------------------"
   ]
  },
  {
   "cell_type": "markdown",
   "id": "cf98e34d",
   "metadata": {},
   "source": [
    "# The search for defender begins."
   ]
  },
  {
   "cell_type": "code",
   "execution_count": 24,
   "id": "90bfb0a3",
   "metadata": {},
   "outputs": [],
   "source": [
    "df_df=df[(df['club_name'] != 'Real Madrid CF') & (df['age'] <= 26)]"
   ]
  },
  {
   "cell_type": "markdown",
   "id": "7b85b7e7",
   "metadata": {},
   "source": [
    "# We will be selecting the defenders based on the following KPI's\n",
    "            1)defending_marking_awareness\n",
    "            2)defending_standing_tackle\n",
    "            3)defending_sliding_tackle\n",
    "            4)defending"
   ]
  },
  {
   "cell_type": "code",
   "execution_count": 25,
   "id": "fc67308b",
   "metadata": {},
   "outputs": [
    {
     "data": {
      "text/plain": [
       "<BarContainer object of 5 artists>"
      ]
     },
     "execution_count": 25,
     "metadata": {},
     "output_type": "execute_result"
    },
    {
     "data": {
      "image/png": "[encoded data removed]",
      "text/plain": [
       "<Figure size 432x288 with 1 Axes>"
      ]
     },
     "metadata": {
      "needs_background": "light"
     },
     "output_type": "display_data"
    }
   ],
   "source": [
    "top_2=df_df.sort_values('defending_marking_awareness', ascending=False)\n",
    "plt.bar(top_2['short_name'].head(),top_2['defending_marking_awareness'].head(), width = 0.5)"
   ]
  },
  {
   "cell_type": "code",
   "execution_count": 26,
   "id": "cecd4bcb",
   "metadata": {},
   "outputs": [
    {
     "data": {
      "text/plain": [
       "<BarContainer object of 5 artists>"
      ]
     },
     "execution_count": 26,
     "metadata": {},
     "output_type": "execute_result"
    },
    {
     "data": {
      "image/png": "[encoded data removed]",
      "text/plain": [
       "<Figure size 432x288 with 1 Axes>"
      ]
     },
     "metadata": {
      "needs_background": "light"
     },
     "output_type": "display_data"
    }
   ],
   "source": [
    "top_2=df_df.sort_values('defending_standing_tackle', ascending=False)\n",
    "plt.bar(top_2['short_name'].head(),top_2['defending_standing_tackle'].head(), width = 0.5)"
   ]
  },
  {
   "cell_type": "code",
   "execution_count": 27,
   "id": "2ca122fb",
   "metadata": {},
   "outputs": [
    {
     "data": {
      "text/plain": [
       "<BarContainer object of 5 artists>"
      ]
     },
     "execution_count": 27,
     "metadata": {},
     "output_type": "execute_result"
    },
    {
     "data": {
      "image/png": "[encoded data removed]",
      "text/plain": [
       "<Figure size 432x288 with 1 Axes>"
      ]
     },
     "metadata": {
      "needs_background": "light"
     },
     "output_type": "display_data"
    }
   ],
   "source": [
    "top_2=df_df.sort_values('defending_sliding_tackle', ascending=False)\n",
    "plt.bar(top_2['short_name'].head(),top_2['defending_sliding_tackle'].head(), width = 0.5)"
   ]
  },
  {
   "cell_type": "code",
   "execution_count": 28,
   "id": "d0c49638",
   "metadata": {},
   "outputs": [
    {
     "data": {
      "text/plain": [
       "<BarContainer object of 5 artists>"
      ]
     },
     "execution_count": 28,
     "metadata": {},
     "output_type": "execute_result"
    },
    {
     "data": {
      "image/png": "[encoded data removed]",
      "text/plain": [
       "<Figure size 432x288 with 1 Axes>"
      ]
     },
     "metadata": {
      "needs_background": "light"
     },
     "output_type": "display_data"
    }
   ],
   "source": [
    "top_2=df_df.sort_values('defending', ascending=False)\n",
    "plt.bar(top_2['short_name'].head(),top_2['defending'].head(), width = 0.5)"
   ]
  },
  {
   "cell_type": "code",
   "execution_count": 29,
   "id": "8f34dfd2",
   "metadata": {},
   "outputs": [
    {
     "data": {
      "text/plain": [
       "46      Rúben Dias\n",
       "91        W. Ndidi\n",
       "68     M. Škriniar\n",
       "130     J. Giménez\n",
       "260       Palhinha\n",
       "Name: short_name, dtype: object"
      ]
     },
     "execution_count": 29,
     "metadata": {},
     "output_type": "execute_result"
    }
   ],
   "source": [
    "top_2['short_name'].head()"
   ]
  },
  {
   "cell_type": "markdown",
   "id": "d1fbf56d",
   "metadata": {},
   "source": [
    "# Best defender:\n",
    "Rúben Dias,W. Ndidi"
   ]
  },
  {
   "cell_type": "markdown",
   "id": "559add2d",
   "metadata": {},
   "source": [
    "# Search for mid fielders begins"
   ]
  },
  {
   "cell_type": "markdown",
   "id": "bba995dd",
   "metadata": {},
   "source": [
    "Midfielders have to run the most, any on top of that, they also generally have the ball the most, too. So while scouting them we need to look at some other parameters. Lets adjudicate them based on the following KPI's.\n",
    "\n",
    "    pace\n",
    "\tshooting\t\n",
    "    passing\t\n",
    "    dribbling"
   ]
  },
  {
   "cell_type": "code",
   "execution_count": 30,
   "id": "d45ca4f7",
   "metadata": {},
   "outputs": [],
   "source": [
    "df_mid=df[(df['club_name'] != 'Real Madrid CF') & (df['age'] <= 26)]"
   ]
  },
  {
   "cell_type": "code",
   "execution_count": 31,
   "id": "2a2a8f95",
   "metadata": {},
   "outputs": [
    {
     "data": {
      "text/plain": [
       "<BarContainer object of 5 artists>"
      ]
     },
     "execution_count": 31,
     "metadata": {},
     "output_type": "execute_result"
    },
    {
     "data": {
      "image/png": "[encoded data removed]",
      "text/plain": [
       "<Figure size 432x288 with 1 Axes>"
      ]
     },
     "metadata": {
      "needs_background": "light"
     },
     "output_type": "display_data"
    }
   ],
   "source": [
    "top_4=df_mid.sort_values('pace', ascending=False)\n",
    "plt.bar(top_4['short_name'].head(),top_4['pace'].head(), width = 0.5)"
   ]
  },
  {
   "cell_type": "code",
   "execution_count": 32,
   "id": "31be1bd7",
   "metadata": {},
   "outputs": [
    {
     "data": {
      "text/plain": [
       "<BarContainer object of 5 artists>"
      ]
     },
     "execution_count": 32,
     "metadata": {},
     "output_type": "execute_result"
    },
    {
     "data": {
      "image/png": "[encoded data removed]",
      "text/plain": [
       "<Figure size 432x288 with 1 Axes>"
      ]
     },
     "metadata": {
      "needs_background": "light"
     },
     "output_type": "display_data"
    }
   ],
   "source": [
    "top_4=df_mid.sort_values('shooting', ascending=False)\n",
    "plt.bar(top_4['short_name'].head(),top_4['shooting'].head(), width = 0.5)"
   ]
  },
  {
   "cell_type": "code",
   "execution_count": 33,
   "id": "919cccc3",
   "metadata": {},
   "outputs": [
    {
     "data": {
      "text/plain": [
       "<BarContainer object of 5 artists>"
      ]
     },
     "execution_count": 33,
     "metadata": {},
     "output_type": "execute_result"
    },
    {
     "data": {
      "image/png": "[encoded data removed]",
      "text/plain": [
       "<Figure size 432x288 with 1 Axes>"
      ]
     },
     "metadata": {
      "needs_background": "light"
     },
     "output_type": "display_data"
    }
   ],
   "source": [
    "top_4=df_mid.sort_values('passing', ascending=False)\n",
    "plt.bar(top_4['short_name'].head(),top_4['passing'].head(), width = 0.5)"
   ]
  },
  {
   "cell_type": "code",
   "execution_count": 34,
   "id": "c53ab390",
   "metadata": {},
   "outputs": [
    {
     "data": {
      "text/plain": [
       "<BarContainer object of 5 artists>"
      ]
     },
     "execution_count": 34,
     "metadata": {},
     "output_type": "execute_result"
    },
    {
     "data": {
      "image/png": "[encoded data removed]",
      "text/plain": [
       "<Figure size 432x288 with 1 Axes>"
      ]
     },
     "metadata": {
      "needs_background": "light"
     },
     "output_type": "display_data"
    }
   ],
   "source": [
    "top_4=df_mid.sort_values('dribbling', ascending=False)\n",
    "plt.bar(top_4['short_name'].head(),top_4['dribbling'].head(), width = 0.5)"
   ]
  },
  {
   "cell_type": "markdown",
   "id": "8b0f0de3",
   "metadata": {},
   "source": [
    "K Mbappe should be the mid fielder."
   ]
  },
  {
   "cell_type": "markdown",
   "id": "073ee553",
   "metadata": {},
   "source": [
    "# Search for attacker begins"
   ]
  },
  {
   "cell_type": "markdown",
   "id": "7edfac1f",
   "metadata": {},
   "source": [
    "# We will be shortlisting attackers based on the following KPI's\n",
    "    attacking_crossing\n",
    "    attacking_finishing\n",
    "    wage_eur"
   ]
  },
  {
   "cell_type": "code",
   "execution_count": 35,
   "id": "6744726c",
   "metadata": {},
   "outputs": [],
   "source": [
    "df_att=df[(df['club_name'] != 'Real Madrid CF') & (df['age'] <= 26)]"
   ]
  },
  {
   "cell_type": "code",
   "execution_count": 36,
   "id": "e66827cc",
   "metadata": {},
   "outputs": [
    {
     "data": {
      "text/plain": [
       "<BarContainer object of 5 artists>"
      ]
     },
     "execution_count": 36,
     "metadata": {},
     "output_type": "execute_result"
    },
    {
     "data": {
      "image/png": "[encoded data removed]",
      "text/plain": [
       "<Figure size 432x288 with 1 Axes>"
      ]
     },
     "metadata": {
      "needs_background": "light"
     },
     "output_type": "display_data"
    }
   ],
   "source": [
    "top_3=df_att.sort_values('attacking_crossing', ascending=False)\n",
    "plt.bar(top_3['short_name'].head(),top_3['attacking_crossing'].head(), width = 0.5)"
   ]
  },
  {
   "cell_type": "code",
   "execution_count": 37,
   "id": "b334b505",
   "metadata": {},
   "outputs": [
    {
     "data": {
      "text/plain": [
       "<BarContainer object of 5 artists>"
      ]
     },
     "execution_count": 37,
     "metadata": {},
     "output_type": "execute_result"
    },
    {
     "data": {
      "image/png": "[encoded data removed]",
      "text/plain": [
       "<Figure size 432x288 with 1 Axes>"
      ]
     },
     "metadata": {
      "needs_background": "light"
     },
     "output_type": "display_data"
    }
   ],
   "source": [
    "top_3=df_att.sort_values('attacking_finishing', ascending=False)\n",
    "plt.bar(top_3['short_name'].head(),top_3['attacking_finishing'].head(), width = 0.5)"
   ]
  },
  {
   "cell_type": "code",
   "execution_count": 38,
   "id": "aa5a713b",
   "metadata": {},
   "outputs": [
    {
     "data": {
      "text/plain": [
       "<BarContainer object of 5 artists>"
      ]
     },
     "execution_count": 38,
     "metadata": {},
     "output_type": "execute_result"
    },
    {
     "data": {
      "image/png": "[encoded data removed]",
      "text/plain": [
       "<Figure size 432x288 with 1 Axes>"
      ]
     },
     "metadata": {
      "needs_background": "light"
     },
     "output_type": "display_data"
    }
   ],
   "source": [
    "top_3=df_att.sort_values('wage_eur', ascending=False)\n",
    "plt.bar(top_3['short_name'].head(),top_3['wage_eur'].head(), width = 0.5)"
   ]
  },
  {
   "cell_type": "markdown",
   "id": "a6f00543",
   "metadata": {},
   "source": [
    "Since we have planned to hire the best in every field its a no brainer that we'll be paying a hefty sum to such players, we now need to focus on the money as well.Based on the graphs we should go for E. Halland as he top notch in the attack finishing, although we have other players as well but they are too expensive give the amount of money we will already be paying to other top players."
   ]
  },
  {
   "cell_type": "markdown",
   "id": "2215a477",
   "metadata": {},
   "source": [
    "![](https://media.tenor.com/I6bSd_xNoc0AAAAM/hooray-its-weekend.gif)"
   ]
  }
 ],
 "metadata": {
  "kernelspec": {
   "display_name": "Python 3 (ipykernel)",
   "language": "python",
   "name": "python3"
  },
  "language_info": {
   "codemirror_mode": {
    "name": "ipython",
    "version": 3
   },
   "file_extension": ".py",
   "mimetype": "text/x-python",
   "name": "python",
   "nbconvert_exporter": "python",
   "pygments_lexer": "ipython3",
   "version": "3.9.13"
  }
 },
 "nbformat": 4,
 "nbformat_minor": 5
}
